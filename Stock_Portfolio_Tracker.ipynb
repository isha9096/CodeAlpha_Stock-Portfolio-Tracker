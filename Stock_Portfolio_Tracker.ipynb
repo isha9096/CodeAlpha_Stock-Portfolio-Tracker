{
 "cells": [
  {
   "cell_type": "code",
   "execution_count": 1,
   "id": "7935d7c5-ba31-4877-aa81-12bec0666768",
   "metadata": {},
   "outputs": [
    {
     "name": "stdout",
     "output_type": "stream",
     "text": [
      "\n",
      "1. Add Stock\n",
      "2. Remove Stock\n",
      "3. Track Performance\n",
      "4. Plot Portfolio\n",
      "5. Exit\n"
     ]
    },
    {
     "name": "stdin",
     "output_type": "stream",
     "text": [
      "Enter your choice:  1\n",
      "Enter stock symbol:  a\n",
      "Enter number of shares:  3\n"
     ]
    },
    {
     "name": "stdout",
     "output_type": "stream",
     "text": [
      "3 shares of A added to portfolio.\n",
      "\n",
      "1. Add Stock\n",
      "2. Remove Stock\n",
      "3. Track Performance\n",
      "4. Plot Portfolio\n",
      "5. Exit\n"
     ]
    },
    {
     "name": "stdin",
     "output_type": "stream",
     "text": [
      "Enter your choice:  1\n",
      "Enter stock symbol:  B\n",
      "Enter number of shares:  4\n"
     ]
    },
    {
     "name": "stdout",
     "output_type": "stream",
     "text": [
      "4 shares of B added to portfolio.\n",
      "\n",
      "1. Add Stock\n",
      "2. Remove Stock\n",
      "3. Track Performance\n",
      "4. Plot Portfolio\n",
      "5. Exit\n"
     ]
    },
    {
     "name": "stdin",
     "output_type": "stream",
     "text": [
      "Enter your choice:  3\n"
     ]
    },
    {
     "name": "stdout",
     "output_type": "stream",
     "text": [
      "Portfolio performance:\n",
      "Total investment: 585.1299896240234\n",
      "Current value: 182.65999603271484\n",
      "Profit/Loss: -402.4699935913086\n",
      "\n",
      "1. Add Stock\n",
      "2. Remove Stock\n",
      "3. Track Performance\n",
      "4. Plot Portfolio\n",
      "5. Exit\n"
     ]
    },
    {
     "name": "stdin",
     "output_type": "stream",
     "text": [
      "Enter your choice:  4\n"
     ]
    },
    {
     "data": {
      "image/png": "[encoded data removed]",
      "text/plain": [
       "<Figure size 640x480 with 1 Axes>"
      ]
     },
     "metadata": {},
     "output_type": "display_data"
    },
    {
     "name": "stdout",
     "output_type": "stream",
     "text": [
      "\n",
      "1. Add Stock\n",
      "2. Remove Stock\n",
      "3. Track Performance\n",
      "4. Plot Portfolio\n",
      "5. Exit\n"
     ]
    },
    {
     "name": "stdin",
     "output_type": "stream",
     "text": [
      "Enter your choice:  5\n"
     ]
    },
    {
     "name": "stdout",
     "output_type": "stream",
     "text": [
      "Exiting program.\n"
     ]
    }
   ],
   "source": [
    "import yfinance as yf\n",
    "import matplotlib.pyplot as plt\n",
    "\n",
    "class StockPortfolio:\n",
    "    def __init__(self):\n",
    "        self.portfolio = {}\n",
    "\n",
    "    def add_stock(self, symbol, shares):\n",
    "        if symbol in self.portfolio:\n",
    "            self.portfolio[symbol] += shares\n",
    "        else:\n",
    "            self.portfolio[symbol] = shares\n",
    "\n",
    "    def remove_stock(self, symbol, shares):\n",
    "        if symbol in self.portfolio:\n",
    "            if shares >= self.portfolio[symbol]:\n",
    "                del self.portfolio[symbol]\n",
    "            else:\n",
    "                self.portfolio[symbol] -= shares\n",
    "\n",
    "    def track_performance(self):\n",
    "        total_investment = 0\n",
    "        current_value = 0\n",
    "\n",
    "        for symbol, shares in self.portfolio.items():\n",
    "            stock = yf.Ticker(symbol)\n",
    "            current_price = stock.history(period=\"1d\")[\"Close\"].iloc[-1]\n",
    "            total_investment += shares * current_price\n",
    "            current_value += current_price\n",
    "\n",
    "        return total_investment, current_value\n",
    "\n",
    "    def plot_portfolio(self):\n",
    "        labels = []\n",
    "        sizes = []\n",
    "\n",
    "        for symbol, shares in self.portfolio.items():\n",
    "            stock = yf.Ticker(symbol)\n",
    "            current_price = stock.history(period=\"1d\")[\"Close\"].iloc[-1]\n",
    "            labels.append(symbol)\n",
    "            sizes.append(shares * current_price)\n",
    "\n",
    "        plt.pie(sizes, labels=labels, autopct='%1.1f%%', startangle=140)\n",
    "        plt.axis('equal')\n",
    "        plt.title('Portfolio Allocation')\n",
    "        plt.show()\n",
    "\n",
    "# Initialize portfolio\n",
    "portfolio = StockPortfolio()\n",
    "\n",
    "# Interactive menu\n",
    "while True:\n",
    "    print(\"\\n1. Add Stock\")\n",
    "    print(\"2. Remove Stock\")\n",
    "    print(\"3. Track Performance\")\n",
    "    print(\"4. Plot Portfolio\")\n",
    "    print(\"5. Exit\")\n",
    "    choice = input(\"Enter your choice: \")\n",
    "\n",
    "    if choice == '1':\n",
    "        symbol = input(\"Enter stock symbol: \").upper()\n",
    "        shares = int(input(\"Enter number of shares: \"))\n",
    "        portfolio.add_stock(symbol, shares)\n",
    "        print(f\"{shares} shares of {symbol} added to portfolio.\")\n",
    "\n",
    "    elif choice == '2':\n",
    "        symbol = input(\"Enter stock symbol: \").upper()\n",
    "        shares = int(input(\"Enter number of shares to remove: \"))\n",
    "        portfolio.remove_stock(symbol, shares)\n",
    "        print(f\"{shares} shares of {symbol} removed from portfolio.\")\n",
    "\n",
    "    elif choice == '3':\n",
    "        total_investment, current_value = portfolio.track_performance()\n",
    "        print(\"Portfolio performance:\")\n",
    "        print(\"Total investment:\", total_investment)\n",
    "        print(\"Current value:\", current_value)\n",
    "        print(\"Profit/Loss:\", current_value - total_investment)\n",
    "\n",
    "    elif choice == '4':\n",
    "        portfolio.plot_portfolio()\n",
    "\n",
    "    elif choice == '5':\n",
    "        print(\"Exiting program.\")\n",
    "        break\n",
    "\n",
    "    else:\n",
    "        print(\"Invalid choice. Please enter a number between 1 and 5.\")\n"
   ]
  },
  {
   "cell_type": "code",
   "execution_count": null,
   "id": "8f1e2212-7e53-4919-891d-72f401efcfdc",
   "metadata": {},
   "outputs": [],
   "source": []
  }
 ],
 "metadata": {
  "kernelspec": {
   "display_name": "Python 3 (ipykernel)",
   "language": "python",
   "name": "python3"
  },
  "language_info": {
   "codemirror_mode": {
    "name": "ipython",
    "version": 3
   },
   "file_extension": ".py",
   "mimetype": "text/x-python",
   "name": "python",
   "nbconvert_exporter": "python",
   "pygments_lexer": "ipython3",
   "version": "3.11.2"
  }
 },
 "nbformat": 4,
 "nbformat_minor": 5
}
